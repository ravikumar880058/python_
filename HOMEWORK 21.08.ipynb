{
 "cells": [
  {
   "cell_type": "code",
   "execution_count": 1,
   "id": "3071336e",
   "metadata": {},
   "outputs": [
    {
     "name": "stdout",
     "output_type": "stream",
     "text": [
      "12\n",
      "its a positive number\n"
     ]
    }
   ],
   "source": [
    "num = int(input())\n",
    "if num>0:\n",
    "    print(\"its a positive number\")\n",
    "elif num==0:\n",
    "    print(\"its zero\")\n",
    "else:\n",
    "    print(\"its negative\")"
   ]
  },
  {
   "cell_type": "code",
   "execution_count": 15,
   "id": "afce3df8",
   "metadata": {},
   "outputs": [
    {
     "name": "stdout",
     "output_type": "stream",
     "text": [
      "365\n",
      "entered year is not leap year\n"
     ]
    }
   ],
   "source": [
    "num =int(input())\n",
    "if ((num%100==0) and (num%400==0) and (num%4==0)):\n",
    "    print(\"entered  year is leap year\")\n",
    "else:\n",
    "    print(\"entered year is not leap year\")"
   ]
  },
  {
   "cell_type": "code",
   "execution_count": 13,
   "id": "3161fb24",
   "metadata": {},
   "outputs": [
    {
     "name": "stdout",
     "output_type": "stream",
     "text": [
      "1\n",
      "2\n",
      "3\n",
      " c is the largest\n"
     ]
    }
   ],
   "source": [
    "a =int(input())\n",
    "b =int(input())\n",
    "c =int(input())\n",
    "\n",
    "if a>=b and a>=c:\n",
    "    print(\"A is the largest\")\n",
    "    if b>=c and b>=a:\n",
    "        print(\"B is the largest\")\n",
    "else:\n",
    "    print(\" c is the largest\")"
   ]
  },
  {
   "cell_type": "code",
   "execution_count": 14,
   "id": "0cdeedca",
   "metadata": {},
   "outputs": [
    {
     "name": "stdout",
     "output_type": "stream",
     "text": [
      "18\n",
      "you are eligible for voting\n"
     ]
    }
   ],
   "source": [
    "age = int(input())\n",
    "if age>=18:\n",
    "    print(\"you are eligible for voting\")\n",
    "    \n",
    "else:\n",
    "    print(\"you are in collage\")"
   ]
  },
  {
   "cell_type": "code",
   "execution_count": 17,
   "id": "e22af466",
   "metadata": {},
   "outputs": [
    {
     "name": "stdout",
     "output_type": "stream",
     "text": [
      "Input lengths of the triangle sides: \n",
      "x: 10\n",
      "y: 10\n",
      "z: 12\n",
      "isosceles triangle\n"
     ]
    }
   ],
   "source": [
    "print(\"Input lengths of the triangle sides: \")\n",
    "x = int(input(\"x: \"))\n",
    "y = int(input(\"y: \"))\n",
    "z = int(input(\"z: \"))\n",
    "\n",
    "if x == y == z:\n",
    "    print(\"Equilateral triangle\")\n",
    "elif x==y or y==z or z==x:\n",
    "    print(\"isosceles triangle\")\n",
    "else:\n",
    "    print(\"Scalene triangle\")"
   ]
  },
  {
   "cell_type": "code",
   "execution_count": 18,
   "id": "eadd9e9f",
   "metadata": {},
   "outputs": [
    {
     "name": "stdout",
     "output_type": "stream",
     "text": [
      "95\n",
      "grade:A\n"
     ]
    }
   ],
   "source": [
    "num =int(input())\n",
    "if num>90:\n",
    "    print(\"grade:A\")\n",
    "if num>80 and num<=90:\n",
    "    print(\"grade:B\")\n",
    "if num>=60 and num<=80:\n",
    "    print(\"garde:c\")\n",
    "if num<60:\n",
    "    print(\"grade d\")"
   ]
  },
  {
   "cell_type": "code",
   "execution_count": 21,
   "id": "521b3cab",
   "metadata": {},
   "outputs": [
    {
     "name": "stdout",
     "output_type": "stream",
     "text": [
      "Enter temperature in celsius: 37.5\n",
      "37.50 Celsius is: 99.50 Fahrenheit\n"
     ]
    }
   ],
   "source": [
    "#Celsius = (Fahrenheit – 32) * 5/9\n",
    "#Fahrenheit = (Celsius * 9/5) + 32\n",
    "\n",
    "celsius = float(input(\"Enter temperature in celsius: \"))\n",
    "fahrenheit = (celsius * 9/5) + 32\n",
    "print('%.2f Celsius is: %0.2f Fahrenheit' %(celsius, fahrenheit))"
   ]
  },
  {
   "cell_type": "code",
   "execution_count": 29,
   "id": "227e5941",
   "metadata": {},
   "outputs": [
    {
     "name": "stdout",
     "output_type": "stream",
     "text": [
      "enter your number :30\n",
      " given number divisible by 3\n",
      "given number divisible by 5\n"
     ]
    }
   ],
   "source": [
    "num=int(input(\"enter your number :\"))\n",
    "if num%3==0:\n",
    "    print(\" given number divisible by 3\")\n",
    "if num%5==0:\n",
    "    print(\"given number divisible by 5\")\n",
    "elif ((num%3==0) and (num%5==0)):\n",
    "    print(\"divisible by both\")"
   ]
  },
  {
   "cell_type": "code",
   "execution_count": 32,
   "id": "37bb6fd5",
   "metadata": {},
   "outputs": [
    {
     "name": "stdout",
     "output_type": "stream",
     "text": [
      " Please Enter your number : 12\n",
      "Given Number 12 is Not Divisible by 5 and 3\n"
     ]
    }
   ],
   "source": [
    "number = int(input(\" Please Enter your number : \"))\n",
    "\n",
    "if((number % 5 == 0) and (number % 3 == 0)):\n",
    "\n",
    "   print(\"Given Number {0} is Divisible by 5 and 3\".format(number))\n",
    "\n",
    "else:\n",
    "\n",
    "   print(\"Given Number {0} is Not Divisible by 5 and 3\".format(number))"
   ]
  },
  {
   "cell_type": "code",
   "execution_count": null,
   "id": "31da80a6",
   "metadata": {},
   "outputs": [],
   "source": []
  }
 ],
 "metadata": {
  "kernelspec": {
   "display_name": "Python 3 (ipykernel)",
   "language": "python",
   "name": "python3"
  },
  "language_info": {
   "codemirror_mode": {
    "name": "ipython",
    "version": 3
   },
   "file_extension": ".py",
   "mimetype": "text/x-python",
   "name": "python",
   "nbconvert_exporter": "python",
   "pygments_lexer": "ipython3",
   "version": "3.10.9"
  }
 },
 "nbformat": 4,
 "nbformat_minor": 5
}
