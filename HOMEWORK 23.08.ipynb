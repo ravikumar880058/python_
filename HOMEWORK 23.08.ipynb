{
 "cells": [
  {
   "cell_type": "markdown",
   "id": "8f761820",
   "metadata": {},
   "source": [
    "01.Counting Vowels and Consonants\n",
    "Write a Python function that takes a string as input and returns the count of vowels \n",
    "and consonants in the string.\n",
    "Consider that the input string will only contain alphabetic characters and no spaces."
   ]
  },
  {
   "cell_type": "code",
   "execution_count": 6,
   "id": "7f35ec2b",
   "metadata": {},
   "outputs": [
    {
     "name": "stdout",
     "output_type": "stream",
     "text": [
      "enter your string: akgja kdjgfak\n",
      "total number of vowels: 3\n",
      "total number of consonants: 10\n"
     ]
    }
   ],
   "source": [
    "string=input(\"enter your string: \")\n",
    "vowels=0\n",
    "consonants=0\n",
    "string.lower()\n",
    "for i in string:\n",
    "    if(i==\"a\" or i==\"e\" or i==\"i\" or i==\"o\" or i==\"u\"):\n",
    "        vowels=vowels+1\n",
    "    else:\n",
    "        consonants=consonants+1\n",
    "print(\"total number of vowels:\",vowels)\n",
    "print(\"total number of consonants:\",consonants)"
   ]
  },
  {
   "cell_type": "markdown",
   "id": "8bda41bc",
   "metadata": {},
   "source": [
    "02.Reversing a String\n",
    "Write a Python function to reverse a given string."
   ]
  },
  {
   "cell_type": "code",
   "execution_count": 12,
   "id": "bbdf946e",
   "metadata": {},
   "outputs": [
    {
     "name": "stdout",
     "output_type": "stream",
     "text": [
      "enter your string: python\n",
      "nohtyp\n"
     ]
    }
   ],
   "source": [
    "string=input(\"enter your string: \")\n",
    "reversed_string = string[::-1]\n",
    "print(reversed_string)"
   ]
  },
  {
   "cell_type": "markdown",
   "id": "24fe1784",
   "metadata": {},
   "source": [
    "03.Palindrome Check\n",
    "Write a Python function that checks if a given string is a palindrome \n",
    "(reads the same forwards and backwards)."
   ]
  },
  {
   "cell_type": "code",
   "execution_count": 15,
   "id": "617ae0fe",
   "metadata": {},
   "outputs": [
    {
     "name": "stdout",
     "output_type": "stream",
     "text": [
      "kiya\n",
      "No givem=n string is not palindrome\n"
     ]
    }
   ],
   "source": [
    "string =input(\"enter your string\")\n",
    "w = \"\"\n",
    "for i in string:\n",
    "    w = i + w\n",
    "if (string == w):\n",
    "    print(\"given string is palindrome\")\n",
    "else:\n",
    "    print(\"given string is not palindrome\")"
   ]
  },
  {
   "cell_type": "code",
   "execution_count": 17,
   "id": "5ec264d4",
   "metadata": {},
   "outputs": [
    {
     "name": "stdout",
     "output_type": "stream",
     "text": [
      "enter your stringpython\n",
      "given string is not palindrome\n"
     ]
    }
   ],
   "source": [
    "string =input(\"enter your string\")\n",
    "if (string==string[::-1]):\n",
    "    print(\"given string is palindrome\")\n",
    "else:\n",
    "    print(\"given string is not palindrome\")"
   ]
  },
  {
   "cell_type": "markdown",
   "id": "5ecc6e1b",
   "metadata": {},
   "source": [
    "4.Word Count\n",
    "Write a Python function that takes a sentence (a string containing words separated by spaces)\n",
    "and returns the count of words in the sentence."
   ]
  },
  {
   "cell_type": "code",
   "execution_count": 28,
   "id": "9b9cc2c9",
   "metadata": {},
   "outputs": [
    {
     "name": "stdout",
     "output_type": "stream",
     "text": [
      "enter your string: python is fun\n",
      "The number of words in string are : 3\n"
     ]
    }
   ],
   "source": [
    "string = input(\"enter your string: \")\n",
    "words = string.count(\" \")+1\n",
    "print (\"The number of words in string are : \" + str(words))"
   ]
  },
  {
   "cell_type": "markdown",
   "id": "07bbd231",
   "metadata": {},
   "source": [
    "5.Capitalize Words\n",
    "Write a Python function that takes a sentence and returns the sentence with each word capitalized."
   ]
  },
  {
   "cell_type": "code",
   "execution_count": 34,
   "id": "f1090748",
   "metadata": {},
   "outputs": [
    {
     "name": "stdout",
     "output_type": "stream",
     "text": [
      "enter your sentencemy name is ravi\n",
      "My Name Is Ravi\n"
     ]
    }
   ],
   "source": [
    "text = input(\"enter your sentence: \")\n",
    "result = text.title()\n",
    "print(result)"
   ]
  },
  {
   "cell_type": "markdown",
   "id": "a5bcc5b8",
   "metadata": {},
   "source": [
    "6. Replace Substring\n",
    "Write a Python function that takes a string, a target substring, \n",
    "and a replacement string, and returns the modified string with \n",
    "all occurrences of the target substring replaced by the replacement string.\n"
   ]
  },
  {
   "cell_type": "code",
   "execution_count": 41,
   "id": "86159bbf",
   "metadata": {},
   "outputs": [
    {
     "name": "stdout",
     "output_type": "stream",
     "text": [
      "enter your string: i am your fan\n",
      "i am your freind\n"
     ]
    }
   ],
   "source": [
    "string=input(\"enter your string: \")\n",
    "new_string=string.replace(\"fan\",\"freind\")\n",
    "print(new_string)"
   ]
  },
  {
   "cell_type": "markdown",
   "id": "9697acd2",
   "metadata": {},
   "source": [
    "#list"
   ]
  },
  {
   "cell_type": "markdown",
   "id": "69e52021",
   "metadata": {},
   "source": [
    "01.Finding the Maximum and Minimum\n",
    "Write a Python function that takes a list of numbers as input and\n",
    "returns the maximum and minimum values in the list."
   ]
  },
  {
   "cell_type": "code",
   "execution_count": 1,
   "id": "b93c2ce1",
   "metadata": {},
   "outputs": [
    {
     "name": "stdout",
     "output_type": "stream",
     "text": [
      "maximum element is  10 minimum element is  1\n"
     ]
    }
   ],
   "source": [
    "list1 = [1, 3, 4, 5, 2, 6]\n",
    "list2 = [3, 4, 8, 3, 10, 1]\n",
    "x=[i for i in list1+list2]\n",
    "print(\"maximum element is \",max(x),\"minimum element is \",min(x))"
   ]
  },
  {
   "cell_type": "markdown",
   "id": "fc152b49",
   "metadata": {},
   "source": [
    "02.List Reversal\n",
    "Write a Python function that takes a list as \n",
    "input and returns a new list with the elements reversed.\n"
   ]
  },
  {
   "cell_type": "code",
   "execution_count": 19,
   "id": "878b24be",
   "metadata": {},
   "outputs": [
    {
     "name": "stdout",
     "output_type": "stream",
     "text": [
      "5\n",
      "4\n",
      "3\n",
      "2\n",
      "1\n"
     ]
    }
   ],
   "source": [
    "test_list = [1, 2, 3, 4, 5,]\n",
    "for ele in reversed(test_list):\n",
    "    print(ele)"
   ]
  },
  {
   "cell_type": "code",
   "execution_count": 22,
   "id": "3d00fa09",
   "metadata": {},
   "outputs": [
    {
     "name": "stdout",
     "output_type": "stream",
     "text": [
      "[5, 4, 3, 2, 1]\n"
     ]
    }
   ],
   "source": [
    "test_list=[1,2,3,4,5]\n",
    "print(list(reversed(test_list)))"
   ]
  },
  {
   "cell_type": "markdown",
   "id": "754724b7",
   "metadata": {},
   "source": [
    "03.Removing Duplicates\n",
    "Write a Python function that takes a list as input and\n",
    "returns a new list with all the duplicates removed."
   ]
  },
  {
   "cell_type": "code",
   "execution_count": 23,
   "id": "d6afdf84",
   "metadata": {},
   "outputs": [
    {
     "name": "stdout",
     "output_type": "stream",
     "text": [
      "Updated List after removing duplicates = [1, 2, 3, 4]\n"
     ]
    }
   ],
   "source": [
    "lst = [1, 2, 3, 4, 3, 2]\n",
    "\n",
    "temp = []\n",
    "\n",
    "for x in lst:\n",
    "    if x not in temp:\n",
    "        temp.append(x)\n",
    "\n",
    "lst = temp\n",
    "\n",
    "print(f'Updated List after removing duplicates = {temp}')"
   ]
  },
  {
   "cell_type": "code",
   "execution_count": null,
   "id": "94969bae",
   "metadata": {},
   "outputs": [],
   "source": []
  }
 ],
 "metadata": {
  "kernelspec": {
   "display_name": "Python 3 (ipykernel)",
   "language": "python",
   "name": "python3"
  },
  "language_info": {
   "codemirror_mode": {
    "name": "ipython",
    "version": 3
   },
   "file_extension": ".py",
   "mimetype": "text/x-python",
   "name": "python",
   "nbconvert_exporter": "python",
   "pygments_lexer": "ipython3",
   "version": "3.10.9"
  }
 },
 "nbformat": 4,
 "nbformat_minor": 5
}
